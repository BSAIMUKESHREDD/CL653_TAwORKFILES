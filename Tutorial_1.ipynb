{
  "nbformat": 4,
  "nbformat_minor": 0,
  "metadata": {
    "colab": {
      "provenance": [],
      "authorship_tag": "ABX9TyMcaKdPp58cq08jPDfSyV8v",
      "include_colab_link": true
    },
    "kernelspec": {
      "name": "python3",
      "display_name": "Python 3"
    },
    "language_info": {
      "name": "python"
    }
  },
  "cells": [
    {
      "cell_type": "markdown",
      "metadata": {
        "id": "view-in-github",
        "colab_type": "text"
      },
      "source": [
        "<a href=\"https://colab.research.google.com/github/BSAIMUKESHREDD/CL653Courseworkproject/blob/main/Tutorial_1.ipynb\" target=\"_parent\"><img src=\"https://colab.research.google.com/assets/colab-badge.svg\" alt=\"Open In Colab\"/></a>"
      ]
    },
    {
      "cell_type": "markdown",
      "source": [
        "**Print all the results at the end of each cell **"
      ],
      "metadata": {
        "id": "71x0hW2lVMek"
      }
    },
    {
      "cell_type": "markdown",
      "source": [
        "Assume these numbers\n",
        "Btech 3rd year - 73\n",
        "Btech 4th year - 74\n",
        "Mtech !st year - 75\n",
        "Phd - 76\n"
      ],
      "metadata": {
        "id": "NYjuy9n4Syqw"
      }
    },
    {
      "cell_type": "code",
      "source": [
        "AssignedNumber ="
      ],
      "metadata": {
        "id": "FjIM55neTse2"
      },
      "execution_count": null,
      "outputs": []
    },
    {
      "cell_type": "code",
      "source": [
        "#In this cell write your name ,rollnumber by using multi line commenting\n"
      ],
      "metadata": {
        "id": "4PSb4Hhlf3E_"
      },
      "execution_count": null,
      "outputs": []
    },
    {
      "cell_type": "markdown",
      "source": [
        "Declare any 5 variable and  assign  5 different values\n"
      ],
      "metadata": {
        "id": "SpHOqdR-TPrT"
      }
    },
    {
      "cell_type": "code",
      "source": [],
      "metadata": {
        "id": "lcFya8EtUp26"
      },
      "execution_count": null,
      "outputs": []
    },
    {
      "cell_type": "markdown",
      "source": [
        "Perform (+,-,*,/,//,%,**,***) by selecting one number as the AssignedNumber and another random number"
      ],
      "metadata": {
        "id": "mT6dyfMUUgVq"
      }
    },
    {
      "cell_type": "code",
      "source": [],
      "metadata": {
        "id": "4nHHCBJRVAl9"
      },
      "execution_count": null,
      "outputs": []
    },
    {
      "cell_type": "markdown",
      "source": [
        "write one mathematical expression which involves all the above mathematical operation and assign it to a variable (the name of the variable should be your last name)"
      ],
      "metadata": {
        "id": "LrgfdeIzV1J7"
      }
    },
    {
      "cell_type": "code",
      "source": [],
      "metadata": {
        "id": "PqUHkamgWjam"
      },
      "execution_count": null,
      "outputs": []
    },
    {
      "cell_type": "markdown",
      "source": [
        "Calculate the value using a calculator and check the value."
      ],
      "metadata": {
        "id": "w9WkBqksWjup"
      }
    },
    {
      "cell_type": "markdown",
      "source": [
        "Define a complex number and assign it to a variable\n",
        "find the phase and argument"
      ],
      "metadata": {
        "id": "MstZxocHW4iW"
      }
    },
    {
      "cell_type": "code",
      "source": [],
      "metadata": {
        "id": "fj9SKkFEXlQ_"
      },
      "execution_count": null,
      "outputs": []
    },
    {
      "cell_type": "markdown",
      "source": [
        "Did you use any import statement for the above task.\n",
        "If so give atleast 10 python packages that can be used for chemical engg applications and import all of them."
      ],
      "metadata": {
        "id": "-yFWZTo_Xl04"
      }
    },
    {
      "cell_type": "code",
      "source": [],
      "metadata": {
        "id": "gINPME8UX_Ww"
      },
      "execution_count": null,
      "outputs": []
    },
    {
      "cell_type": "markdown",
      "source": [
        "\n",
        "\n",
        "*  create a variable and assign it as a string with your name as the value\n",
        "*   Print the number of characters in your name.\n",
        "\n",
        "*  Perform string slicing operations on it such that you get your the name of your favorite actor/animal/thing/monument.\n",
        "*   If you do not have the letter in your name add the letter directly in the print statement.(Not necessary)\n",
        "---------------------------------------------------\n",
        "\n",
        "Example:\n",
        "myName = \"Siddarth Roy\"\n",
        "FavActor = myName[:9]"
      ],
      "metadata": {
        "id": "2kYM3pZ9X_ii"
      }
    },
    {
      "cell_type": "code",
      "source": [],
      "metadata": {
        "id": "okpR39Pmauj3"
      },
      "execution_count": 6,
      "outputs": []
    },
    {
      "cell_type": "markdown",
      "source": [
        "Write basic code to find if given number(You can take any number ) is odd or even\n",
        "--\n",
        "*If intrested read about elif and how to use else statement when using a while loop .*"
      ],
      "metadata": {
        "id": "9rhvYqvWavHO"
      }
    },
    {
      "cell_type": "code",
      "source": [],
      "metadata": {
        "id": "H4IqLLBTdLfT"
      },
      "execution_count": null,
      "outputs": []
    },
    {
      "cell_type": "markdown",
      "source": [
        "Using range function and for loop iterate through the numbers and the input for the range function is  = (AssignedNumber//5) .Print all the values"
      ],
      "metadata": {
        "id": "thuUqry9eE2O"
      }
    },
    {
      "cell_type": "code",
      "source": [],
      "metadata": {
        "id": "e4kp44HVh1xd"
      },
      "execution_count": null,
      "outputs": []
    },
    {
      "cell_type": "markdown",
      "source": [
        "\n",
        "\n",
        "*   Write code for finding if given range of  numbers is prime or not\n",
        "*   (The numbers lie between assignedNumber,assignedNumber+10)\n",
        "\n",
        "\n",
        ""
      ],
      "metadata": {
        "id": "3iOexQKph2Xi"
      }
    },
    {
      "cell_type": "code",
      "source": [],
      "metadata": {
        "id": "zB-7Ce6rjINb"
      },
      "execution_count": null,
      "outputs": []
    },
    {
      "cell_type": "markdown",
      "source": [
        "Declare a list with atleast 10 random numbers/text\n",
        "Perform operations like append,insert,remove,pop,clear,index,count,sort,reverse,copy"
      ],
      "metadata": {
        "id": "pOEVdI6ejIrG"
      }
    },
    {
      "cell_type": "code",
      "source": [],
      "metadata": {
        "id": "OfQ-U13QjvMF"
      },
      "execution_count": null,
      "outputs": []
    },
    {
      "cell_type": "markdown",
      "source": [
        "Iterate thorugh the above created list using a for loop and print each element"
      ],
      "metadata": {
        "id": "74baAUJhjzCC"
      }
    },
    {
      "cell_type": "code",
      "source": [],
      "metadata": {
        "id": "qtQl5pgPjyLX"
      },
      "execution_count": null,
      "outputs": []
    },
    {
      "cell_type": "markdown",
      "source": [
        "Declare a tuple and try to perform all the operations performed on list and see what is the output you get check for any errors."
      ],
      "metadata": {
        "id": "9SfEkpFJj8pl"
      }
    },
    {
      "cell_type": "code",
      "source": [],
      "metadata": {
        "id": "viCYVTiqkPuU"
      },
      "execution_count": null,
      "outputs": []
    },
    {
      "cell_type": "markdown",
      "source": [
        "Create two **Sets** a ='yourfirstname' . b ='lastname'\n",
        "Perform operations like a-b ,a|b ,a&b, a^b\n",
        "What did you observe write in comments"
      ],
      "metadata": {
        "id": "27m87fLskQJ1"
      }
    },
    {
      "cell_type": "code",
      "source": [],
      "metadata": {
        "id": "bMB48ozKku0S"
      },
      "execution_count": null,
      "outputs": []
    },
    {
      "cell_type": "markdown",
      "source": [
        "Using multi line comments write what did you observe while working with list,tuple,set"
      ],
      "metadata": {
        "id": "PnrcmVmWk_bs"
      }
    },
    {
      "cell_type": "code",
      "source": [
        "\"\"\"\n",
        "Your text\n",
        "\"\"\""
      ],
      "metadata": {
        "id": "bHHjppjEk-1f"
      },
      "execution_count": null,
      "outputs": []
    },
    {
      "cell_type": "markdown",
      "source": [
        "Create a dictionary named mesh_size with the keys as the meshnumber and value as the opening in mm.\n",
        "Perform basic operations like\n",
        "\n",
        "1.  using get\n",
        "2.   Add items\n",
        "3. Remove items\n",
        "4. Iterate through a dictionary\n",
        "5. length\n",
        "6. copy\n",
        "\n",
        "You can find the data in the reference\n",
        "---\n",
        "https://www.industrialspec.com/resources/mesh-and-micron-sizes"
      ],
      "metadata": {
        "id": "k4gTlW3NkwQD"
      }
    },
    {
      "cell_type": "code",
      "source": [],
      "metadata": {
        "id": "fLbM1tmYlrCq"
      },
      "execution_count": null,
      "outputs": []
    },
    {
      "cell_type": "markdown",
      "source": [
        "# Print half pyramid,Full pyramid,Inverted half pyramid shapes using *\n",
        "--\n",
        "Ref : https://miro.medium.com/max/3136/1*8yRJzazvRJcAet3FW0HaOQ.png"
      ],
      "metadata": {
        "id": "PgkWlAlYn9ce"
      }
    },
    {
      "cell_type": "code",
      "source": [],
      "metadata": {
        "id": "rUcn38eGn8wJ"
      },
      "execution_count": null,
      "outputs": []
    },
    {
      "cell_type": "markdown",
      "source": [
        "# Write code to find mean of given 10 numbers and name the function meanOfGivenNumbers\n",
        "#Update the code and write afunction  moving average of a selected step size of 3 for a range of 50 numbers you can generate random 50 numbers"
      ],
      "metadata": {
        "id": "HCklY-_HoY0l"
      }
    },
    {
      "cell_type": "code",
      "source": [],
      "metadata": {
        "id": "4fmzf6nZpnPQ"
      },
      "execution_count": null,
      "outputs": []
    },
    {
      "cell_type": "markdown",
      "source": [
        "https://www.industrialspec.com/resources/mesh-and-micron-sizes\n",
        "\n",
        "----\n",
        "* Do this question after completing all the questions\n",
        "* Do write the approach that you are using in comments\n",
        "\n",
        "*   Using the refernce write code such that if given a paricle size say will it pass through the given screen/mesh\n",
        "*   Update the above code such that given a particle size find the first mesh that it can pass through.\n",
        "\n",
        "\n",
        "Assume the input (the size of particle is given in mm)\n",
        "\n",
        "\n"
      ],
      "metadata": {
        "id": "4ScXJX9odLy2"
      }
    },
    {
      "cell_type": "code",
      "source": [],
      "metadata": {
        "id": "VmdSwNg8pnwV"
      },
      "execution_count": null,
      "outputs": []
    },
    {
      "cell_type": "markdown",
      "source": [],
      "metadata": {
        "id": "D6-8gWdapoBF"
      }
    }
  ]
}